{
 "cells": [
  {
   "cell_type": "code",
   "execution_count": 56,
   "id": "0a0ff4c7-3da8-426d-b7c5-b8eb54858601",
   "metadata": {},
   "outputs": [],
   "source": [
    "import numpy as np                                # For matrix operations and numerical processing\n",
    "import pandas as pd                               # For munging tabular data\n",
    "import matplotlib.pyplot as plt                   # For charts and visualizations\n",
    "from IPython.display import Image                 # For displaying images in the notebook\n",
    "from IPython.display import display               # For displaying outputs in the notebook\n",
    "from time import gmtime, strftime                 # For labeling SageMaker models, endpoints, etc.\n",
    "import time\n",
    "import sys                                        # For writing outputs to notebook\n",
    "import math                                       # For ceiling function\n",
    "import json                                       # For parsing hosting outputs\n",
    "import os                                         # For manipulating filepath names\n",
    "import boto3\n",
    "import botocore\n",
    "from botocore.exceptions import ClientError\n",
    "from pathlib import Path\n",
    "\n",
    "import csv\n",
    "import io\n",
    "import re\n",
    "import s3fs\n",
    "\n",
    "import seaborn as sns\n",
    "import pickle\n",
    "import gzip\n",
    "import urllib\n",
    "import csv\n",
    "\n",
    "import sagemaker\n",
    "from sagemaker import PCA\n",
    "from sagemaker.session import Session                              \n",
    "from sagemaker import get_execution_role\n"
   ]
  },
  {
   "cell_type": "code",
   "execution_count": 57,
   "id": "350d6939-3670-4590-b237-d487029ff0f5",
   "metadata": {},
   "outputs": [
    {
     "name": "stdout",
     "output_type": "stream",
     "text": [
      "Sagemaker session : <sagemaker.session.Session object at 0x0000025C5AE7A4E0>\n",
      "S3 bucket : sagemaker-eu-west-1-688567281415\n",
      "Region selected : eu-west-1\n",
      "IAM role : arn:aws:iam::688567281415:role/service-role/AmazonSageMaker-ExecutionRole-20240913T093672\n"
     ]
    }
   ],
   "source": [
    "sagemaker_session = sagemaker.Session()\n",
    "region = boto3.Session().region_name\n",
    "bucket_name = 'sagemaker-eu-west-1-688567281415'\n",
    "role = 'arn:aws:iam::688567281415:role/service-role/AmazonSageMaker-ExecutionRole-20240913T093672'\n",
    "print('Sagemaker session :', sagemaker_session)\n",
    "print('S3 bucket :', bucket_name)\n",
    "print('Region selected :', region)\n",
    "print('IAM role :', role)"
   ]
  },
  {
   "cell_type": "code",
   "execution_count": 58,
   "id": "528778e4-124d-4084-8bde-5746f7a288d8",
   "metadata": {},
   "outputs": [
    {
     "name": "stdout",
     "output_type": "stream",
     "text": [
      "Current working directory: C:\\Users\\Barticus\\PycharmProjects\\CDP_BlockChain\\Machine1\n",
      "Current working directory: C:\\Users\\Barticus\\PycharmProjects\\CDP_BlockChain\\Machine1\n"
     ]
    }
   ],
   "source": [
    "# Print current directory\n",
    "print(f\"Current working directory: {os.getcwd()}\")\n",
    "\n",
    "# Go up one level from current directory\n",
    "parent_dir = os.path.dirname(os.getcwd())\n",
    "sys.path.append(parent_dir)\n",
    "\n",
    "# Now try importing\n",
    "from utils.bitget_futures import BitgetFutures\n",
    "# Print current directory\n",
    "print(f\"Current working directory: {os.getcwd()}\")"
   ]
  },
  {
   "cell_type": "code",
   "execution_count": 59,
   "id": "13b63d10-6817-464d-a680-d5cea89ed5af",
   "metadata": {},
   "outputs": [],
   "source": [
    "    def fetch_data(self):\n",
    "        \"\"\"Fetch historical data from Bitget\"\"\"\n",
    "        try:\n",
    "            if not self.bitget_client:\n",
    "                raise ValueError(\"Bitget client not provided in config\")\n",
    "            \n",
    "            # Use a direct approach that works with daily timeframes\n",
    "            start_date = (pd.Timestamp.now() - pd.Timedelta(days=400)).strftime('%Y-%m-%d')\n",
    "            \n",
    "            print(f\"Fetching data from {start_date} for {self.symbol}\")\n",
    "            \n",
    "            # Get the client from config and access correct properties\n",
    "            data = self.bitget_client.fetch_ohlcv(\n",
    "                symbol=self.symbol,\n",
    "                timeframe=self.timeframe,\n",
    "                start_time=start_date\n",
    "            )\n",
    "            \n",
    "            logging.info(f\"Fetched {len(data)} candles for {self.symbol}\")\n",
    "            return data\n",
    "            \n",
    "        except Exception as e:\n",
    "            print(f\"Error fetching data: {str(e)}\")\n",
    "            raise"
   ]
  },
  {
   "cell_type": "code",
   "execution_count": 60,
   "id": "4a18e553-0d48-42f1-a9a8-82a5fb106eb8",
   "metadata": {},
   "outputs": [],
   "source": [
    "    def calculate_features(self, data):\n",
    "        \"\"\"Calculate required features for PCA analysis\"\"\"\n",
    "        from utils.feature_calculator import calculate_all_features\n",
    "        \n",
    "        # Calculate all available features\n",
    "        features_df = calculate_all_features(data.copy())\n",
    "        \n",
    "        # Handle any NaN values - replace with 0\n",
    "        features_df = features_df.fillna(0)\n",
    "        \n",
    "        return selected_df"
   ]
  },
  {
   "cell_type": "code",
   "execution_count": 62,
   "id": "89308fdf-110d-4e8a-8745-f99f8dbf5a8d",
   "metadata": {},
   "outputs": [
    {
     "name": "stdout",
     "output_type": "stream",
     "text": [
      "(398, 9)\n"
     ]
    }
   ],
   "source": [
    "\n",
    "from sklearn.preprocessing import StandardScaler\n",
    "path = \"s3://sagemaker-eu-west-1-688567281415/25_03_11/PCA_14_07.csv\"\n",
    "ohlcv = pd.read_csv(path, header=0, delimiter=\",\", low_memory=False)\n",
    "ohlcv.dropna(inplace=True)\n",
    "print(ohlcv.shape)\n",
    "\n",
    "ohlcv = ohlcv.astype(float)"
   ]
  },
  {
   "cell_type": "code",
   "execution_count": 48,
   "id": "d2e02c30-a555-4bb5-b3cb-b386a203854e",
   "metadata": {},
   "outputs": [],
   "source": [
    "# 1. Fix column names with meaningful labels\n",
    "ohlcv.columns = ['feature1', 'feature2', 'feature3', 'feature4', \n",
    "                'feature5', 'feature6', 'feature7', 'feature8', 'volume']\n",
    "\n"
   ]
  },
  {
   "cell_type": "code",
   "execution_count": 69,
   "id": "6741f9e5-f8ed-4fb8-b064-8e887bbde12a",
   "metadata": {},
   "outputs": [],
   "source": [
    "n_components=5\n",
    "# Initialize PCA estimator with larger instance and no spot\n",
    "job_name = f\"pca-test-{int(time.time())}\"\n",
    "pca_estimator = PCA(\n",
    "    role=role,\n",
    "    instance_count=1,\n",
    "    instance_type='ml.m5.large',\n",
    "    num_components=n_components,\n",
    "    sagemaker_session=sagemaker_session,\n",
    "    output_path=f\"s3://{bucket_name}/pca_output\",\n",
    "    base_job_name=job_name\n",
    ")"
   ]
  },
  {
   "cell_type": "code",
   "execution_count": 82,
   "id": "70572aac-b1f6-436e-b2bb-be011c9177bd",
   "metadata": {},
   "outputs": [
    {
     "name": "stdout",
     "output_type": "stream",
     "text": [
      "Data uploaded to s3://sagemaker-eu-west-1-688567281415/pca-input/20250312-145348/pca_data.csv\n",
      "CSV file has 9 columns per row\n"
     ]
    },
    {
     "data": {
      "text/html": [
       "<pre style=\"white-space:pre;overflow-x:auto;line-height:normal;font-family:Menlo,'DejaVu Sans Mono',consolas,'Courier New',monospace\"><span style=\"color: #7fbfbf; text-decoration-color: #7fbfbf\">[03/12/25 15:21:25] </span><span style=\"color: #d7af00; text-decoration-color: #d7af00; font-weight: bold\">WARNING </span> The method get_image_uri has been renamed in sagemaker&gt;=<span style=\"color: #008080; text-decoration-color: #008080; font-weight: bold\">2</span>.          <a href=\"file://C:\\Users\\Barticus\\PycharmProjects\\CDP_BlockChain\\Machine1\\env\\Lib\\site-packages\\sagemaker\\deprecations.py\" target=\"_blank\"><span style=\"color: #7f7f7f; text-decoration-color: #7f7f7f\">deprecations.py</span></a><span style=\"color: #7f7f7f; text-decoration-color: #7f7f7f\">:</span><a href=\"file://C:\\Users\\Barticus\\PycharmProjects\\CDP_BlockChain\\Machine1\\env\\Lib\\site-packages\\sagemaker\\deprecations.py#34\" target=\"_blank\"><span style=\"color: #7f7f7f; text-decoration-color: #7f7f7f\">34</span></a>\n",
       "<span style=\"color: #7fbfbf; text-decoration-color: #7fbfbf\">                    </span>         See: <span style=\"color: #0069ff; text-decoration-color: #0069ff; text-decoration: underline\">https://sagemaker.readthedocs.io/en/stable/v2.html</span> for         <span style=\"color: #7f7f7f; text-decoration-color: #7f7f7f\">                  </span>\n",
       "<span style=\"color: #7fbfbf; text-decoration-color: #7fbfbf\">                    </span>         details.                                                            <span style=\"color: #7f7f7f; text-decoration-color: #7f7f7f\">                  </span>\n",
       "</pre>\n"
      ],
      "text/plain": [
       "\u001b[2;36m[03/12/25 15:21:25]\u001b[0m\u001b[2;36m \u001b[0m\u001b[1;38;2;215;175;0mWARNING \u001b[0m The method get_image_uri has been renamed in sagemaker>=\u001b[1;36m2\u001b[0m.          \u001b]8;id=394327;file://C:\\Users\\Barticus\\PycharmProjects\\CDP_BlockChain\\Machine1\\env\\Lib\\site-packages\\sagemaker\\deprecations.py\u001b\\\u001b[2mdeprecations.py\u001b[0m\u001b]8;;\u001b\\\u001b[2m:\u001b[0m\u001b]8;id=967339;file://C:\\Users\\Barticus\\PycharmProjects\\CDP_BlockChain\\Machine1\\env\\Lib\\site-packages\\sagemaker\\deprecations.py#34\u001b\\\u001b[2m34\u001b[0m\u001b]8;;\u001b\\\n",
       "\u001b[2;36m                    \u001b[0m         See: \u001b[4;38;2;0;105;255mhttps://sagemaker.readthedocs.io/en/stable/v2.html\u001b[0m for         \u001b[2m                  \u001b[0m\n",
       "\u001b[2;36m                    \u001b[0m         details.                                                            \u001b[2m                  \u001b[0m\n"
      ]
     },
     "metadata": {},
     "output_type": "display_data"
    },
    {
     "data": {
      "text/html": [
       "<pre style=\"white-space:pre;overflow-x:auto;line-height:normal;font-family:Menlo,'DejaVu Sans Mono',consolas,'Courier New',monospace\"><span style=\"color: #7fbfbf; text-decoration-color: #7fbfbf\">                    </span><span style=\"color: #0069ff; text-decoration-color: #0069ff; font-weight: bold\">INFO    </span> Same images used for training and inference. Defaulting to image     <a href=\"file://C:\\Users\\Barticus\\PycharmProjects\\CDP_BlockChain\\Machine1\\env\\Lib\\site-packages\\sagemaker\\image_uris.py\" target=\"_blank\"><span style=\"color: #7f7f7f; text-decoration-color: #7f7f7f\">image_uris.py</span></a><span style=\"color: #7f7f7f; text-decoration-color: #7f7f7f\">:</span><a href=\"file://C:\\Users\\Barticus\\PycharmProjects\\CDP_BlockChain\\Machine1\\env\\Lib\\site-packages\\sagemaker\\image_uris.py#393\" target=\"_blank\"><span style=\"color: #7f7f7f; text-decoration-color: #7f7f7f\">393</span></a>\n",
       "<span style=\"color: #7fbfbf; text-decoration-color: #7fbfbf\">                    </span>         scope: inference.                                                    <span style=\"color: #7f7f7f; text-decoration-color: #7f7f7f\">                 </span>\n",
       "</pre>\n"
      ],
      "text/plain": [
       "\u001b[2;36m                   \u001b[0m\u001b[2;36m \u001b[0m\u001b[1;38;2;0;105;255mINFO    \u001b[0m Same images used for training and inference. Defaulting to image     \u001b]8;id=683231;file://C:\\Users\\Barticus\\PycharmProjects\\CDP_BlockChain\\Machine1\\env\\Lib\\site-packages\\sagemaker\\image_uris.py\u001b\\\u001b[2mimage_uris.py\u001b[0m\u001b]8;;\u001b\\\u001b[2m:\u001b[0m\u001b]8;id=145487;file://C:\\Users\\Barticus\\PycharmProjects\\CDP_BlockChain\\Machine1\\env\\Lib\\site-packages\\sagemaker\\image_uris.py#393\u001b\\\u001b[2m393\u001b[0m\u001b]8;;\u001b\\\n",
       "\u001b[2;36m                    \u001b[0m         scope: inference.                                                    \u001b[2m                 \u001b[0m\n"
      ]
     },
     "metadata": {},
     "output_type": "display_data"
    },
    {
     "data": {
      "text/html": [
       "<pre style=\"white-space:pre;overflow-x:auto;line-height:normal;font-family:Menlo,'DejaVu Sans Mono',consolas,'Courier New',monospace\"><span style=\"color: #7fbfbf; text-decoration-color: #7fbfbf\">                    </span><span style=\"color: #0069ff; text-decoration-color: #0069ff; font-weight: bold\">INFO    </span> Ignoring unnecessary instance type: <span style=\"color: #e100e1; text-decoration-color: #e100e1; font-style: italic\">None</span>.                            <a href=\"file://C:\\Users\\Barticus\\PycharmProjects\\CDP_BlockChain\\Machine1\\env\\Lib\\site-packages\\sagemaker\\image_uris.py\" target=\"_blank\"><span style=\"color: #7f7f7f; text-decoration-color: #7f7f7f\">image_uris.py</span></a><span style=\"color: #7f7f7f; text-decoration-color: #7f7f7f\">:</span><a href=\"file://C:\\Users\\Barticus\\PycharmProjects\\CDP_BlockChain\\Machine1\\env\\Lib\\site-packages\\sagemaker\\image_uris.py#530\" target=\"_blank\"><span style=\"color: #7f7f7f; text-decoration-color: #7f7f7f\">530</span></a>\n",
       "</pre>\n"
      ],
      "text/plain": [
       "\u001b[2;36m                   \u001b[0m\u001b[2;36m \u001b[0m\u001b[1;38;2;0;105;255mINFO    \u001b[0m Ignoring unnecessary instance type: \u001b[3;38;2;225;0;225mNone\u001b[0m.                            \u001b]8;id=79167;file://C:\\Users\\Barticus\\PycharmProjects\\CDP_BlockChain\\Machine1\\env\\Lib\\site-packages\\sagemaker\\image_uris.py\u001b\\\u001b[2mimage_uris.py\u001b[0m\u001b]8;;\u001b\\\u001b[2m:\u001b[0m\u001b]8;id=701342;file://C:\\Users\\Barticus\\PycharmProjects\\CDP_BlockChain\\Machine1\\env\\Lib\\site-packages\\sagemaker\\image_uris.py#530\u001b\\\u001b[2m530\u001b[0m\u001b]8;;\u001b\\\n"
      ]
     },
     "metadata": {},
     "output_type": "display_data"
    },
    {
     "name": "stdout",
     "output_type": "stream",
     "text": [
      "Using container: 438346466558.dkr.ecr.eu-west-1.amazonaws.com/pca:1\n",
      "Setting feature_dim to 9 based on actual CSV format\n",
      "Training job created: pca-direct2-20250312-145348\n"
     ]
    }
   ],
   "source": [
    "# Scale the data (crucial for PCA)\n",
    "scaler = StandardScaler()\n",
    "scaled_data = scaler.fit_transform(ohlcv.values)\n",
    "\n",
    "# 3. Create a new DataFrame with scaled values and proper column names\n",
    "scaled_df = pd.DataFrame(scaled_data, columns=ohlcv.columns)\n",
    "\n",
    "train_data = scaled_df.values.astype('float32')\n",
    "\n",
    "# Upload to S3\n",
    "s3_client = boto3.client('s3')\n",
    "s3_client.upload_file(local_file, bucket_name, s3_key)\n",
    "print(f\"Data uploaded to s3://{bucket_name}/{s3_key}\")\n",
    "\n",
    "# Verify the CSV file contents before proceeding\n",
    "with open(local_file, 'r') as f:\n",
    "    first_line = f.readline().strip()\n",
    "    actual_dims = len(first_line.split(','))\n",
    "    print(f\"CSV file has {actual_dims} columns per row\")\n",
    "\n",
    "# 2. Now create a SageMaker training job directly with boto3\n",
    "sm_client = boto3.client('sagemaker')\n",
    "\n",
    "# Get the PCA algorithm container\n",
    "from sagemaker.amazon.amazon_estimator import get_image_uri\n",
    "container = get_image_uri(region, \"pca\")\n",
    "print(f\"Using container: {container}\")\n",
    "\n",
    "# Create a unique job name\n",
    "job_name = f\"pca-direct2-{timestamp}\"\n",
    "\n",
    "# The feature dimension must match the actual number of columns in the CSV\n",
    "feature_dim = actual_dims  # Use the verified dimension from the CSV\n",
    "print(f\"Setting feature_dim to {feature_dim} based on actual CSV format\")\n",
    "\n",
    "# Create the training job with proper configuration\n",
    "response = sm_client.create_training_job(\n",
    "    TrainingJobName=job_name,\n",
    "    AlgorithmSpecification={\n",
    "        'TrainingImage': container,\n",
    "        'TrainingInputMode': 'File'\n",
    "    },\n",
    "    RoleArn=role,\n",
    "    InputDataConfig=[\n",
    "        {\n",
    "            'ChannelName': 'train',\n",
    "            'DataSource': {\n",
    "                'S3DataSource': {\n",
    "                    'S3DataType': 'S3Prefix',\n",
    "                    'S3Uri': f\"s3://{bucket_name}/{s3_prefix}/\",\n",
    "                    'S3DataDistributionType': 'FullyReplicated'\n",
    "                }\n",
    "            },\n",
    "            'ContentType': 'text/csv',\n",
    "            'CompressionType': 'None'\n",
    "        }\n",
    "    ],\n",
    "    OutputDataConfig={\n",
    "        'S3OutputPath': f\"s3://{bucket_name}/pca-output/{timestamp}/\"\n",
    "    },\n",
    "    ResourceConfig={\n",
    "        'InstanceType': 'ml.m5.large',\n",
    "        'InstanceCount': 1,\n",
    "        'VolumeSizeInGB': 30\n",
    "    },\n",
    "    HyperParameters={\n",
    "        'num_components': str(n_components),\n",
    "        'feature_dim': str(feature_dim),  # Use the verified dimension\n",
    "        'mini_batch_size': str(min(100, train_data.shape[0]))\n",
    "    },\n",
    "    StoppingCondition={\n",
    "        'MaxRuntimeInSeconds': 300\n",
    "    }\n",
    ")\n",
    "\n",
    "print(f\"Training job created: {job_name}\")"
   ]
  },
  {
   "cell_type": "code",
   "execution_count": 79,
   "id": "ec1d75cc-1cc7-4c07-b830-8b6fb6e28882",
   "metadata": {},
   "outputs": [
    {
     "name": "stdout",
     "output_type": "stream",
     "text": [
      "Starting training job...\n"
     ]
    },
    {
     "data": {
      "text/html": [
       "<pre style=\"white-space:pre;overflow-x:auto;line-height:normal;font-family:Menlo,'DejaVu Sans Mono',consolas,'Courier New',monospace\"><span style=\"color: #7fbfbf; text-decoration-color: #7fbfbf\">[03/12/25 14:54:05] </span><span style=\"color: #0069ff; text-decoration-color: #0069ff; font-weight: bold\">INFO    </span> Same images used for training and inference. Defaulting to image     <a href=\"file://C:\\Users\\Barticus\\PycharmProjects\\CDP_BlockChain\\Machine1\\env\\Lib\\site-packages\\sagemaker\\image_uris.py\" target=\"_blank\"><span style=\"color: #7f7f7f; text-decoration-color: #7f7f7f\">image_uris.py</span></a><span style=\"color: #7f7f7f; text-decoration-color: #7f7f7f\">:</span><a href=\"file://C:\\Users\\Barticus\\PycharmProjects\\CDP_BlockChain\\Machine1\\env\\Lib\\site-packages\\sagemaker\\image_uris.py#393\" target=\"_blank\"><span style=\"color: #7f7f7f; text-decoration-color: #7f7f7f\">393</span></a>\n",
       "<span style=\"color: #7fbfbf; text-decoration-color: #7fbfbf\">                    </span>         scope: inference.                                                    <span style=\"color: #7f7f7f; text-decoration-color: #7f7f7f\">                 </span>\n",
       "</pre>\n"
      ],
      "text/plain": [
       "\u001b[2;36m[03/12/25 14:54:05]\u001b[0m\u001b[2;36m \u001b[0m\u001b[1;38;2;0;105;255mINFO    \u001b[0m Same images used for training and inference. Defaulting to image     \u001b]8;id=410037;file://C:\\Users\\Barticus\\PycharmProjects\\CDP_BlockChain\\Machine1\\env\\Lib\\site-packages\\sagemaker\\image_uris.py\u001b\\\u001b[2mimage_uris.py\u001b[0m\u001b]8;;\u001b\\\u001b[2m:\u001b[0m\u001b]8;id=891932;file://C:\\Users\\Barticus\\PycharmProjects\\CDP_BlockChain\\Machine1\\env\\Lib\\site-packages\\sagemaker\\image_uris.py#393\u001b\\\u001b[2m393\u001b[0m\u001b]8;;\u001b\\\n",
       "\u001b[2;36m                    \u001b[0m         scope: inference.                                                    \u001b[2m                 \u001b[0m\n"
      ]
     },
     "metadata": {},
     "output_type": "display_data"
    },
    {
     "data": {
      "text/html": [
       "<pre style=\"white-space:pre;overflow-x:auto;line-height:normal;font-family:Menlo,'DejaVu Sans Mono',consolas,'Courier New',monospace\"><span style=\"color: #7fbfbf; text-decoration-color: #7fbfbf\">                    </span><span style=\"color: #0069ff; text-decoration-color: #0069ff; font-weight: bold\">INFO    </span> Ignoring unnecessary instance type: <span style=\"color: #e100e1; text-decoration-color: #e100e1; font-style: italic\">None</span>.                            <a href=\"file://C:\\Users\\Barticus\\PycharmProjects\\CDP_BlockChain\\Machine1\\env\\Lib\\site-packages\\sagemaker\\image_uris.py\" target=\"_blank\"><span style=\"color: #7f7f7f; text-decoration-color: #7f7f7f\">image_uris.py</span></a><span style=\"color: #7f7f7f; text-decoration-color: #7f7f7f\">:</span><a href=\"file://C:\\Users\\Barticus\\PycharmProjects\\CDP_BlockChain\\Machine1\\env\\Lib\\site-packages\\sagemaker\\image_uris.py#530\" target=\"_blank\"><span style=\"color: #7f7f7f; text-decoration-color: #7f7f7f\">530</span></a>\n",
       "</pre>\n"
      ],
      "text/plain": [
       "\u001b[2;36m                   \u001b[0m\u001b[2;36m \u001b[0m\u001b[1;38;2;0;105;255mINFO    \u001b[0m Ignoring unnecessary instance type: \u001b[3;38;2;225;0;225mNone\u001b[0m.                            \u001b]8;id=438773;file://C:\\Users\\Barticus\\PycharmProjects\\CDP_BlockChain\\Machine1\\env\\Lib\\site-packages\\sagemaker\\image_uris.py\u001b\\\u001b[2mimage_uris.py\u001b[0m\u001b]8;;\u001b\\\u001b[2m:\u001b[0m\u001b]8;id=782082;file://C:\\Users\\Barticus\\PycharmProjects\\CDP_BlockChain\\Machine1\\env\\Lib\\site-packages\\sagemaker\\image_uris.py#530\u001b\\\u001b[2m530\u001b[0m\u001b]8;;\u001b\\\n"
      ]
     },
     "metadata": {},
     "output_type": "display_data"
    },
    {
     "name": "stderr",
     "output_type": "stream",
     "text": [
      "\n",
      "KeyboardInterrupt\n",
      "\n"
     ]
    }
   ],
   "source": [
    "print(\"Starting training job...\")\n",
    "pca_estimator.fit(record_set, logs=True)"
   ]
  },
  {
   "cell_type": "code",
   "execution_count": null,
   "id": "53c16185-3e17-4bd4-99bc-d63c17c8596b",
   "metadata": {},
   "outputs": [],
   "source": []
  }
 ],
 "metadata": {
  "kernelspec": {
   "display_name": "Python 3 (ipykernel)",
   "language": "python",
   "name": "python3"
  },
  "language_info": {
   "codemirror_mode": {
    "name": "ipython",
    "version": 3
   },
   "file_extension": ".py",
   "mimetype": "text/x-python",
   "name": "python",
   "nbconvert_exporter": "python",
   "pygments_lexer": "ipython3",
   "version": "3.12.6"
  }
 },
 "nbformat": 4,
 "nbformat_minor": 5
}
