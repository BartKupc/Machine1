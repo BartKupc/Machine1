{
 "cells": [
  {
   "cell_type": "code",
   "execution_count": 1,
   "id": "5acafbb3-e731-4ca8-95bf-6b4247645c02",
   "metadata": {},
   "outputs": [
    {
     "ename": "SyntaxError",
     "evalue": "'yield' inside list comprehension (dataloader.py, line 278)",
     "output_type": "error",
     "traceback": [
      "Traceback \u001b[36m(most recent call last)\u001b[39m:\n",
      "  File \u001b[92m~\\PycharmProjects\\CDP_BlockChain\\Machine1\\env\\Lib\\site-packages\\IPython\\core\\interactiveshell.py:3549\u001b[39m in \u001b[95mrun_code\u001b[39m\n    exec(code_obj, self.user_global_ns, self.user_ns)\n",
      "  Cell \u001b[92mIn[1]\u001b[39m\u001b[92m, line 20\u001b[39m\n    import mxnet as mx\n",
      "  File \u001b[92m~\\PycharmProjects\\CDP_BlockChain\\Machine1\\env\\Lib\\site-packages\\mxnet\\__init__.py:82\u001b[39m\n    from . import gluon\n",
      "  File \u001b[92m~\\PycharmProjects\\CDP_BlockChain\\Machine1\\env\\Lib\\site-packages\\mxnet\\gluon\\__init__.py:36\u001b[39m\n    from . import data\n",
      "\u001b[36m  \u001b[39m\u001b[36mFile \u001b[39m\u001b[32m~\\PycharmProjects\\CDP_BlockChain\\Machine1\\env\\Lib\\site-packages\\mxnet\\gluon\\data\\__init__.py:26\u001b[39m\n\u001b[31m    \u001b[39m\u001b[31mfrom .dataloader import *\u001b[39m\n",
      "  \u001b[36mFile \u001b[39m\u001b[32m~\\PycharmProjects\\CDP_BlockChain\\Machine1\\env\\Lib\\site-packages\\mxnet\\gluon\\data\\dataloader.py:278\u001b[39m\n\u001b[31m    \u001b[39m\u001b[31mgenerator = lambda: [(yield self._batchify_fn([self._dataset[idx] for idx in batch]))\u001b[39m\n                          ^\n\u001b[31mSyntaxError\u001b[39m\u001b[31m:\u001b[39m 'yield' inside list comprehension\n"
     ]
    }
   ],
   "source": [
    "import numpy as np                                # For matrix operations and numerical processing\n",
    "import pandas as pd                               # For munging tabular data\n",
    "import matplotlib.pyplot as plt                   # For charts and visualizations\n",
    "from IPython.display import Image                 # For displaying images in the notebook\n",
    "from IPython.display import display               # For displaying outputs in the notebook\n",
    "from time import gmtime, strftime                 # For labeling SageMaker models, endpoints, etc.\n",
    "import time\n",
    "import sys                                        # For writing outputs to notebook\n",
    "import math                                       # For ceiling function\n",
    "import json                                       # For parsing hosting outputs\n",
    "import os                                         # For manipulating filepath names\n",
    "import boto3\n",
    "import botocore\n",
    "from botocore.exceptions import ClientError\n",
    "\n",
    "import csv\n",
    "import io\n",
    "import re\n",
    "import s3fs\n",
    "import mxnet as mx\n",
    "import seaborn as sns\n",
    "import pickle\n",
    "import gzip\n",
    "import urllib\n",
    "import csv\n",
    "\n",
    "\n",
    "import sagemaker                                 \n",
    "from sagemaker.predictor import csv_serializer \n",
    "from sagemaker.predictor import json_deserializer\n",
    "import sagemaker.amazon.common as smac\n",
    "from sagemaker import get_execution_role"
   ]
  },
  {
   "cell_type": "code",
   "execution_count": null,
   "id": "e1834ce6-4290-478c-97f1-c85c4c67887d",
   "metadata": {},
   "outputs": [],
   "source": []
  }
 ],
 "metadata": {
  "kernelspec": {
   "display_name": "Python 3 (ipykernel)",
   "language": "python",
   "name": "python3"
  },
  "language_info": {
   "codemirror_mode": {
    "name": "ipython",
    "version": 3
   },
   "file_extension": ".py",
   "mimetype": "text/x-python",
   "name": "python",
   "nbconvert_exporter": "python",
   "pygments_lexer": "ipython3",
   "version": "3.12.6"
  }
 },
 "nbformat": 4,
 "nbformat_minor": 5
}
